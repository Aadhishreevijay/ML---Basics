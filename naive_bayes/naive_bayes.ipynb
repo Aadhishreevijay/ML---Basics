{
 "cells": [
  {
   "cell_type": "code",
   "execution_count": 39,
   "id": "0ee46261-74bc-4275-964a-47b03c99e31f",
   "metadata": {},
   "outputs": [],
   "source": [
    "import pandas as pd\n",
    "import numpy as np\n",
    "from sklearn.preprocessing import LabelEncoder"
   ]
  },
  {
   "cell_type": "code",
   "execution_count": 40,
   "id": "3065537e-2358-4569-8fb1-14b6f4934f84",
   "metadata": {},
   "outputs": [
    {
     "name": "stdout",
     "output_type": "stream",
     "text": [
      "<class 'pandas.core.frame.DataFrame'>\n",
      "RangeIndex: 891 entries, 0 to 890\n",
      "Data columns (total 13 columns):\n",
      " #   Column       Non-Null Count  Dtype  \n",
      "---  ------       --------------  -----  \n",
      " 0   PassengerId  891 non-null    int64  \n",
      " 1   Survived     891 non-null    int64  \n",
      " 2   Pclass       891 non-null    int64  \n",
      " 3   Name         891 non-null    object \n",
      " 4   Sex          891 non-null    object \n",
      " 5   Age          714 non-null    float64\n",
      " 6   Desc         891 non-null    object \n",
      " 7   SibSp        891 non-null    int64  \n",
      " 8   Parch        891 non-null    int64  \n",
      " 9   Ticket       891 non-null    object \n",
      " 10  Fare         891 non-null    float64\n",
      " 11  Cabin        204 non-null    object \n",
      " 12  Embarked     889 non-null    object \n",
      "dtypes: float64(2), int64(5), object(6)\n",
      "memory usage: 90.6+ KB\n"
     ]
    }
   ],
   "source": [
    "data=pd.read_csv('titanic.csv')\n",
    "data.info()"
   ]
  },
  {
   "cell_type": "code",
   "execution_count": 41,
   "id": "2c03d8ae-2924-4c87-97dd-81a2186dda2e",
   "metadata": {},
   "outputs": [],
   "source": [
    "data['Age'].fillna(data['Age'].median(),inplace=True)\n",
    "data['Embarked'].fillna(data['Embarked'].mode()[0],inplace=True)"
   ]
  },
  {
   "cell_type": "code",
   "execution_count": 42,
   "id": "ad6c35ce-ec20-4872-9b4f-1cbb1bbb509c",
   "metadata": {},
   "outputs": [],
   "source": [
    "label=LabelEncoder()\n",
    "data['Sex']=label.fit_transform(data['Sex'])\n",
    "data['Embarked']=label.fit_transform(data['Embarked'])"
   ]
  },
  {
   "cell_type": "code",
   "execution_count": 43,
   "id": "71017d49-b015-4e8b-9465-b6e9d6b92a4d",
   "metadata": {},
   "outputs": [],
   "source": [
    "selected=['Pclass','Sex','Age','SibSp','Parch','Fare','Embarked','Survived']\n",
    "data=data[selected]"
   ]
  },
  {
   "cell_type": "code",
   "execution_count": 44,
   "id": "d0ca4801-acdf-4e71-997a-8ffe624325a7",
   "metadata": {},
   "outputs": [],
   "source": [
    "def cal(data,feature,target,value):\n",
    "    total=data.shape[0]\n",
    "    tar_c=data[data[target]==value].shape[0]\n",
    "    fea_c=data[(data[target]==value)&(data[feature]==value)]\n",
    "    prob_t=tar_c/total\n",
    "    prob_f=fea_c/tar_c if tar_c!=0 else 0\n",
    "    return prob_t,prob_f"
   ]
  },
  {
   "cell_type": "code",
   "execution_count": 45,
   "id": "42a390e5-1bd5-4e73-9a3c-a1d2117bf5a8",
   "metadata": {},
   "outputs": [],
   "source": [
    "def predict(data, new_data):\n",
    "    target_values = data['Survived'].unique()\n",
    "    probs = []\n",
    "    \n",
    "    for target_value in target_values:\n",
    "        prob = 1.0\n",
    "        \n",
    "        for feature, value in new_data.items():\n",
    "            if value in data[feature].unique():\n",
    "                prob_t, prob_f = cal(data, feature, 'Survived', target_value)\n",
    "                prob *= prob_f\n",
    "            else:\n",
    "                prob = 0\n",
    "                break\n",
    "                \n",
    "        probs.append((target_value, prob))\n",
    "            "
   ]
  },
  {
   "cell_type": "code",
   "execution_count": 46,
   "id": "6fd37db6-b4b6-44cd-81e5-9d97d0d964db",
   "metadata": {},
   "outputs": [],
   "source": [
    "new_data = {\n",
    "    'Pclass': 2,\n",
    "    'Sex': 0,  # 0 for female, 1 for male\n",
    "    'Age': 35,\n",
    "    'SibSp': 1,\n",
    "    'Parch': 0,\n",
    "    'Fare': 25.5,\n",
    "    'Embarked': 1  # 1 represents 'Q' after label encoding\n",
    "}"
   ]
  },
  {
   "cell_type": "code",
   "execution_count": 47,
   "id": "1bc4e871-3c16-460e-8564-6bcab9a3ead2",
   "metadata": {},
   "outputs": [
    {
     "name": "stdout",
     "output_type": "stream",
     "text": [
      "no\n"
     ]
    }
   ],
   "source": [
    "prediction=predict(data,new_data)\n",
    "if prediction==1:\n",
    "    print('sur')\n",
    "else:\n",
    "    print(\"no\")"
   ]
  },
  {
   "cell_type": "code",
   "execution_count": 48,
   "id": "a37e4ae2-a700-47c2-b191-51cbf57fcd69",
   "metadata": {},
   "outputs": [
    {
     "name": "stdout",
     "output_type": "stream",
     "text": [
      "Accuracy: 0.776536312849162\n",
      "\n",
      "Classification Report:\n",
      "               precision    recall  f1-score   support\n",
      "\n",
      "           0       0.83      0.78      0.80       105\n",
      "           1       0.71      0.77      0.74        74\n",
      "\n",
      "    accuracy                           0.78       179\n",
      "   macro avg       0.77      0.78      0.77       179\n",
      "weighted avg       0.78      0.78      0.78       179\n",
      "\n",
      "\n",
      "Prediction for new data:\n",
      "Survived\n"
     ]
    }
   ],
   "source": [
    "import pandas as pd\n",
    "import numpy as np\n",
    "from sklearn.model_selection import train_test_split\n",
    "from sklearn.naive_bayes import GaussianNB\n",
    "from sklearn.metrics import accuracy_score, classification_report\n",
    "from sklearn.preprocessing import LabelEncoder\n",
    "\n",
    "# Load Titanic dataset\n",
    "data = pd.read_csv('titanic.csv')\n",
    "\n",
    "# Handle missing values\n",
    "data['Age'].fillna(data['Age'].median(), inplace=True)\n",
    "data['Embarked'].fillna(data['Embarked'].mode()[0], inplace=True)\n",
    "\n",
    "# Encode categorical variables\n",
    "label_encoder = LabelEncoder()\n",
    "data['Sex'] = label_encoder.fit_transform(data['Sex'])\n",
    "data['Embarked'] = label_encoder.fit_transform(data['Embarked'])\n",
    "\n",
    "# Select features and target variable\n",
    "X = data[['Pclass', 'Sex', 'Age', 'SibSp', 'Parch', 'Fare', 'Embarked']]\n",
    "y = data['Survived']\n",
    "\n",
    "# Split data into training and test sets\n",
    "X_train, X_test, y_train, y_test = train_test_split(X, y, test_size=0.2, random_state=42)\n",
    "\n",
    "# Initialize Gaussian Naive Bayes classifier\n",
    "clf = GaussianNB()\n",
    "\n",
    "# Train the classifier\n",
    "clf.fit(X_train, y_train)\n",
    "\n",
    "# Predict on test set\n",
    "y_pred = clf.predict(X_test)\n",
    "\n",
    "# Evaluate the classifier\n",
    "print(\"Accuracy:\", accuracy_score(y_test, y_pred))\n",
    "print(\"\\nClassification Report:\\n\", classification_report(y_test, y_pred))\n",
    "\n",
    "# Example of new data\n",
    "new_data = {\n",
    "    'Pclass': [2],\n",
    "    'Sex': [0],  # 0 for female, 1 for male\n",
    "    'Age': [35],\n",
    "    'SibSp': [1],\n",
    "    'Parch': [0],\n",
    "    'Fare': [25.5],\n",
    "    'Embarked': [1]  # 1 represents 'Q' after label encoding\n",
    "}\n",
    "\n",
    "# Convert new_data to DataFrame\n",
    "new_data_df = pd.DataFrame(new_data)\n",
    "\n",
    "# Predict survival for new data\n",
    "new_data_pred = clf.predict(new_data_df)\n",
    "\n",
    "print(\"\\nPrediction for new data:\")\n",
    "if new_data_pred[0] == 1:\n",
    "    print('Survived')\n",
    "else:\n",
    "    print('Not Survived')\n"
   ]
  },
  {
   "cell_type": "code",
   "execution_count": 37,
   "id": "a568ceea-b824-482d-8453-57d66c333a49",
   "metadata": {},
   "outputs": [
    {
     "name": "stdout",
     "output_type": "stream",
     "text": [
      "not survived\n"
     ]
    }
   ],
   "source": [
    "import pandas as pd\n",
    "import numpy as np\n",
    "from sklearn.preprocessing import LabelEncoder\n",
    "\n",
    "# Load data\n",
    "data = pd.read_csv('titanic.csv')\n",
    "\n",
    "# Fill missing values\n",
    "data['Age'].fillna(data['Age'].median(), inplace=True)\n",
    "data['Embarked'].fillna(data['Embarked'].mode()[0], inplace=True)\n",
    "\n",
    "# Encode categorical features\n",
    "label = LabelEncoder()\n",
    "data['Sex'] = label.fit_transform(data['Sex'])\n",
    "data['Embarked'] = label.fit_transform(data['Embarked'])\n",
    "\n",
    "# Select features\n",
    "selected = ['Pclass', 'Sex', 'Age', 'SibSp', 'Parch', 'Fare', 'Embarked', 'Survived']\n",
    "data = data[selected]\n",
    "\n",
    "def cal(data, feature, target, value):\n",
    "    total = data.shape[0]\n",
    "    tar_c = data[data[target] == value].shape[0]\n",
    "    fea_c = data[(data[target] == value) & (data[feature] == value)].shape[0]\n",
    "    \n",
    "    prob_t = tar_c / total\n",
    "    prob_f = fea_c / tar_c if tar_c != 0 else 0\n",
    "    \n",
    "    return prob_t, prob_f\n",
    "\n",
    "def predict(data, new_data):\n",
    "    target_values = data['Survived'].unique()\n",
    "    probs = []\n",
    "    \n",
    "    for target_value in target_values:\n",
    "        prob = 1.0\n",
    "        \n",
    "        for feature, value in new_data.items():\n",
    "            if value in data[feature].unique():\n",
    "                prob_t, prob_f = cal(data, feature, 'Survived', target_value)\n",
    "                prob *= prob_f\n",
    "            else:\n",
    "                prob = 0\n",
    "                break\n",
    "                \n",
    "        probs.append((target_value, prob))\n",
    "    \n",
    "    return max(probs, key=lambda x: x[1])[0]\n",
    "\n",
    "new_data = {\n",
    "    'Pclass': 2,\n",
    "    'Sex': 0,  # 0 for female, 1 for male\n",
    "    'Age': 35,\n",
    "    'SibSp': 1,\n",
    "    'Parch': 0,\n",
    "    'Fare': 25.5,\n",
    "    'Embarked': 1  # 1 represents 'Q' after label encoding\n",
    "}\n",
    "\n",
    "prediction = predict(data, new_data)\n",
    "\n",
    "if prediction == 1:\n",
    "    print('survived')\n",
    "else:\n",
    "    print('not survived')\n"
   ]
  }
 ],
 "metadata": {
  "kernelspec": {
   "display_name": "Python 3 (ipykernel)",
   "language": "python",
   "name": "python3"
  },
  "language_info": {
   "codemirror_mode": {
    "name": "ipython",
    "version": 3
   },
   "file_extension": ".py",
   "mimetype": "text/x-python",
   "name": "python",
   "nbconvert_exporter": "python",
   "pygments_lexer": "ipython3",
   "version": "3.11.7"
  }
 },
 "nbformat": 4,
 "nbformat_minor": 5
}
