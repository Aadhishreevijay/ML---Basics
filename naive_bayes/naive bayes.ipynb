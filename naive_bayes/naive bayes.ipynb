{
 "cells": [
  {
   "cell_type": "code",
   "execution_count": 1,
   "id": "bfd03e28-32b1-4013-ad06-a21e83a39dae",
   "metadata": {},
   "outputs": [],
   "source": [
    "import numpy as np\n",
    "import pandas as pd"
   ]
  },
  {
   "cell_type": "code",
   "execution_count": 2,
   "id": "fa8554b7-088c-426a-9c83-1d5371e8fdd2",
   "metadata": {},
   "outputs": [],
   "source": [
    "data=pd.read_csv('diabetes.csv')"
   ]
  },
  {
   "cell_type": "code",
   "execution_count": 23,
   "id": "4e785dde-d484-4348-b21b-4ac69dcbe700",
   "metadata": {},
   "outputs": [],
   "source": [
    "def cal(data,feature,target,value):\n",
    "    total=data.shape[0]\n",
    "    tar_c=data[data[target]==value].shape[0]\n",
    "    fea_c=data[(data[target]==value) & (data[feature]==value)]\n",
    "    p_tar=tar_c/total\n",
    "    p_fea=fea_c/tar_c if tar_c!=0 else 0\n",
    "    return p_tar,p_fea"
   ]
  },
  {
   "cell_type": "code",
   "execution_count": 27,
   "id": "6e50eb23-9684-444f-ae78-621e10076054",
   "metadata": {},
   "outputs": [],
   "source": [
    "def pred(data,new_data):\n",
    "    target_values=data['Outcome'].unique()\n",
    "    probs=[]\n",
    "    for target_value in target_values:\n",
    "        prob_tar=1.0\n",
    "        for feature,value in new_data.items():\n",
    "            p_tar, p_fea = cal(data, feature, 'Outcome', target_value)\n",
    "            prob_tar *= p_fea \n",
    "        probs.append((target_value,float(prob_tar)))\n",
    "    return max(probs,key=lambda x:x[1])[0]"
   ]
  },
  {
   "cell_type": "code",
   "execution_count": 28,
   "id": "de66a0b0-5a3a-469b-9dc9-8c3f96ae1e4a",
   "metadata": {},
   "outputs": [],
   "source": [
    "new_data = {\n",
    "    'Pregnancies': 2,\n",
    "    'Glucose': 120,\n",
    "    'BloodPressure': 70,\n",
    "    'SkinThickness': 32,\n",
    "    'Insulin': 200,\n",
    "    'BMI': 25.5,\n",
    "    'DiabetesPedigreeFunction': 0.45,\n",
    "    'Age': 35\n",
    "}"
   ]
  },
  {
   "cell_type": "code",
   "execution_count": 33,
   "id": "c84e770c-f603-4889-8f97-33e25624b482",
   "metadata": {},
   "outputs": [
    {
     "name": "stdout",
     "output_type": "stream",
     "text": [
      "The predicted class for the new data is: Diabetic\n"
     ]
    }
   ],
   "source": [
    "prediction = pred(data, new_data)\n",
    "if prediction == 1:\n",
    "    result = \"Diabetic\"\n",
    "else:\n",
    "    result = \"Not Diabetic\"\n",
    "print(f\"The predicted class for the new data is: {result}\")"
   ]
  }
 ],
 "metadata": {
  "kernelspec": {
   "display_name": "Python 3 (ipykernel)",
   "language": "python",
   "name": "python3"
  },
  "language_info": {
   "codemirror_mode": {
    "name": "ipython",
    "version": 3
   },
   "file_extension": ".py",
   "mimetype": "text/x-python",
   "name": "python",
   "nbconvert_exporter": "python",
   "pygments_lexer": "ipython3",
   "version": "3.11.4"
  }
 },
 "nbformat": 4,
 "nbformat_minor": 5
}
