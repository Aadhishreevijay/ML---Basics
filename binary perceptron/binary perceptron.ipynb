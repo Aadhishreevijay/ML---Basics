{
 "cells": [
  {
   "cell_type": "code",
   "execution_count": 5,
   "id": "7d34740e-9e93-4ac1-97a7-3479ae9e37a3",
   "metadata": {},
   "outputs": [],
   "source": [
    "import numpy as np\n",
    "import matplotlib.pyplot as plt\n",
    "import pandas as pd\n",
    "from sklearn.model_selection import train_test_split\n",
    "from sklearn.metrics import accuracy_score"
   ]
  },
  {
   "cell_type": "code",
   "execution_count": 14,
   "id": "f5ed8e52-6b50-4e9b-9f14-ceabc79aee95",
   "metadata": {},
   "outputs": [],
   "source": [
    "class Perceptron:\n",
    "    def __init__(self,lr=0.01,itr=1000):\n",
    "         self.lr=lr\n",
    "         self.itr=itr\n",
    "         self.wt=None\n",
    "         self.bias=None\n",
    "    def train(self,x,y):\n",
    "        n_rows,n_feature=x.shape\n",
    "        self.wt=np.zeros(n_feature)\n",
    "        self.bias=0\n",
    "        for _ in range(self.itr):\n",
    "            for i in range(n_rows):\n",
    "                y_pred=self.predict(x[i])\n",
    "                update=self.lr*(y[i]-y_pred)\n",
    "                self.wt+=update*x[i]\n",
    "                self.bias+=update\n",
    "    def predict(self,x):\n",
    "        return 1 if np.dot(self.wt,x)+self.bias >0 else 0   "
   ]
  },
  {
   "cell_type": "code",
   "execution_count": 15,
   "id": "ac5ac8ab-9c59-4d95-9f3e-add3c9c28907",
   "metadata": {},
   "outputs": [],
   "source": [
    "def evaluate_perceptron(x,y,title):\n",
    "    x_train,x_test,y_train,y_test=train_test_split(x,y,test_size=0.2,random_state=42)\n",
    "    perceptron=Perceptron()\n",
    "    perceptron.train(x_train,y_train)\n",
    "    y_pred=np.array([perceptron.predict(x) for x in x_test])\n",
    "    accuracy=accuracy_score(y_test,y_pred)\n",
    "    print(f'accuracy of {title} is {accuracy:.2f}')"
   ]
  },
  {
   "cell_type": "code",
   "execution_count": 16,
   "id": "f1e75982-b3fc-4ede-9699-0d89f3ca83f1",
   "metadata": {},
   "outputs": [],
   "source": [
    "def load_dataset(file_path):\n",
    "    data=pd.read_csv(file_path)\n",
    "    x=data.iloc[:,:-1].values\n",
    "    y=data.iloc[:,-1].values\n",
    "    return x,y"
   ]
  },
  {
   "cell_type": "code",
   "execution_count": 18,
   "id": "b6d4fd37-6900-4c84-8684-f6074a2b3598",
   "metadata": {},
   "outputs": [
    {
     "name": "stdout",
     "output_type": "stream",
     "text": [
      "accuracy of diabates is 0.72\n"
     ]
    }
   ],
   "source": [
    "a,b=load_dataset('diabetes.csv')\n",
    "evaluate_perceptron(a,b,'diabates')"
   ]
  }
 ],
 "metadata": {
  "kernelspec": {
   "display_name": "Python 3 (ipykernel)",
   "language": "python",
   "name": "python3"
  },
  "language_info": {
   "codemirror_mode": {
    "name": "ipython",
    "version": 3
   },
   "file_extension": ".py",
   "mimetype": "text/x-python",
   "name": "python",
   "nbconvert_exporter": "python",
   "pygments_lexer": "ipython3",
   "version": "3.11.4"
  }
 },
 "nbformat": 4,
 "nbformat_minor": 5
}
