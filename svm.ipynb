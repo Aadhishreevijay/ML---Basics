{
 "cells": [
  {
   "cell_type": "code",
   "execution_count": 2,
   "id": "7379e84c-15e4-4d2c-be1f-2436a3f745dd",
   "metadata": {},
   "outputs": [
    {
     "name": "stdout",
     "output_type": "stream",
     "text": [
      "linear:  {'C': 10.1}\n",
      "accuracy:  0.7638544582167134\n",
      "poly:  {'C': 10.1, 'degree': 3}\n",
      "accuracy:  0.7492469678795148\n",
      "rbf:  {'C': 50.1, 'gamma': 0.01}\n",
      "accuracy:  0.7638411302145809\n"
     ]
    }
   ],
   "source": [
    "import numpy as np\n",
    "import pandas as pd\n",
    "from sklearn.svm import SVC\n",
    "from sklearn.model_selection import train_test_split,GridSearchCV\n",
    "from sklearn.preprocessing import StandardScaler\n",
    "data=pd.read_csv('diabetes.csv')\n",
    "x=data.drop('Outcome',axis=1)\n",
    "y=data['Outcome']\n",
    "scalar=StandardScaler()\n",
    "x=scalar.fit_transform(x)\n",
    "x_train,x_test,y_train,y_test=train_test_split(x,y,test_size=0.2,random_state=42)\n",
    "grid_linear={'C':np.arange(0.1,100.1,10)}\n",
    "grid_poly={'C':np.arange(0.1,100.1,10),'degree':[2,3,4]}\n",
    "grid_rbf={'C':np.arange(0.1,100.1,10),'gamma':np.arange(0.01,1.01,0.1)}\n",
    "svm_linear=GridSearchCV(SVC(kernel='linear'),grid_linear,cv=5)\n",
    "svm_linear.fit(x_train,y_train)\n",
    "svm_poly=GridSearchCV(SVC(kernel='poly'),grid_poly,cv=5)\n",
    "svm_poly.fit(x_train,y_train)\n",
    "svm_rbf=GridSearchCV(SVC(kernel='rbf'),grid_rbf,cv=5)\n",
    "svm_rbf.fit(x_train,y_train)\n",
    "print('linear: ',svm_linear.best_params_)\n",
    "print('accuracy: ',svm_linear.best_score_)\n",
    "print('poly: ',svm_poly.best_params_)\n",
    "print('accuracy: ',svm_poly.best_score_)\n",
    "print('rbf: ',svm_rbf.best_params_)\n",
    "print('accuracy: ',svm_rbf.best_score_)"
   ]
  }
 ],
 "metadata": {
  "kernelspec": {
   "display_name": "Python 3 (ipykernel)",
   "language": "python",
   "name": "python3"
  },
  "language_info": {
   "codemirror_mode": {
    "name": "ipython",
    "version": 3
   },
   "file_extension": ".py",
   "mimetype": "text/x-python",
   "name": "python",
   "nbconvert_exporter": "python",
   "pygments_lexer": "ipython3",
   "version": "3.11.7"
  }
 },
 "nbformat": 4,
 "nbformat_minor": 5
}
