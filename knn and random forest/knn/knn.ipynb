{
 "cells": [
  {
   "cell_type": "code",
   "execution_count": 1,
   "id": "7ade7a67-d10b-40b5-a303-3a5656f04ab9",
   "metadata": {},
   "outputs": [],
   "source": [
    "import numpy as np\n",
    "import pandas as pd"
   ]
  },
  {
   "cell_type": "code",
   "execution_count": 15,
   "id": "176b527e-5721-48cc-a4bb-3a5eed648352",
   "metadata": {},
   "outputs": [],
   "source": [
    "data=pd.read_csv('diabetes.csv')\n",
    "x=data.iloc[:,:-1].values\n",
    "y=data.iloc[:,-1].values"
   ]
  },
  {
   "cell_type": "code",
   "execution_count": 3,
   "id": "ad9c8e2f-7884-4af0-99e6-17395204671d",
   "metadata": {},
   "outputs": [],
   "source": [
    "x_train=x[:80]\n",
    "y_train=y[:80]\n",
    "x_test=x[80:]\n",
    "y_test=y[80:]\n",
    "k=3"
   ]
  },
  {
   "cell_type": "code",
   "execution_count": 12,
   "id": "4ef6ee78-200b-4425-b8a1-209755a1f2d1",
   "metadata": {},
   "outputs": [],
   "source": [
    "def e_d(p1,p2):\n",
    "    return np.sqrt(np.sum((p1-p2)**2))"
   ]
  },
  {
   "cell_type": "code",
   "execution_count": 10,
   "id": "dcaf4a2d-ae49-492f-93e5-b1711e90ccfc",
   "metadata": {},
   "outputs": [],
   "source": [
    "def pred(x_train,x_test,y_train,k):\n",
    "    preds=[]\n",
    "    for test_point in x_test:\n",
    "        distance=[e_d(test_point,train_point) for train_point in x_train]\n",
    "        sorted_i=np.argsort(distance)[:k]\n",
    "        k_near=y_train[sorted_i]\n",
    "        prediction=np.bincount(k_near).argmax()\n",
    "        preds.append(prediction)\n",
    "    return preds"
   ]
  },
  {
   "cell_type": "code",
   "execution_count": 17,
   "id": "4840da63-1c90-4880-9d35-e1e007cd6505",
   "metadata": {},
   "outputs": [],
   "source": [
    "prediction=pred(x_train,x_test,y_train,k)"
   ]
  },
  {
   "cell_type": "code",
   "execution_count": 18,
   "id": "5142a13b-bf31-4985-af4c-7c437c06a4f4",
   "metadata": {},
   "outputs": [
    {
     "name": "stdout",
     "output_type": "stream",
     "text": [
      "0.626453488372093\n"
     ]
    }
   ],
   "source": [
    "accuracy=np.mean(y_test==prediction)\n",
    "print(accuracy)"
   ]
  }
 ],
 "metadata": {
  "kernelspec": {
   "display_name": "Python 3 (ipykernel)",
   "language": "python",
   "name": "python3"
  },
  "language_info": {
   "codemirror_mode": {
    "name": "ipython",
    "version": 3
   },
   "file_extension": ".py",
   "mimetype": "text/x-python",
   "name": "python",
   "nbconvert_exporter": "python",
   "pygments_lexer": "ipython3",
   "version": "3.11.7"
  }
 },
 "nbformat": 4,
 "nbformat_minor": 5
}
