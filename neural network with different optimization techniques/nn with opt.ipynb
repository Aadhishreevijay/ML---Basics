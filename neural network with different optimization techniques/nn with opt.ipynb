{
 "cells": [
  {
   "cell_type": "code",
   "execution_count": 4,
   "id": "4d3553ee-f66a-4ed2-9129-49a56fee4199",
   "metadata": {},
   "outputs": [
    {
     "name": "stdout",
     "output_type": "stream",
     "text": [
      "5/5 [==============================] - 0s 7ms/step\n",
      "5/5 [==============================] - 0s 4ms/step\n",
      "5/5 [==============================] - 0s 4ms/step\n",
      "5/5 [==============================] - 0s 5ms/step\n",
      "5/5 [==============================] - 0s 2ms/step\n",
      "RESULTS:\n",
      "\n",
      "Optimizer\tTraining Time\tTest Accuracy\n",
      "sgd       \t2.8235\t\t0.6883\n",
      "adam      \t1.6501\t\t0.7208\n",
      "rmsprop   \t1.0565\t\t0.7468\n",
      "adagrad   \t0.9798\t\t0.5325\n",
      "adadelta  \t1.2461\t\t0.5260\n"
     ]
    }
   ],
   "source": [
    "import pandas as pd\n",
    "from sklearn.model_selection import train_test_split\n",
    "from sklearn.preprocessing import StandardScaler\n",
    "from sklearn.metrics import accuracy_score\n",
    "import tensorflow as tf\n",
    "from tensorflow.keras.models import Sequential\n",
    "from tensorflow.keras.layers import Dense\n",
    "import time\n",
    "\n",
    "# Load the diabetes dataset from CSV file\n",
    "data = pd.read_csv(\"diabetes.csv\")\n",
    "\n",
    "# Extract features and target variable\n",
    "x = data.drop('Outcome', axis=1)\n",
    "y = data['Outcome']\n",
    "\n",
    "# Standardize the features\n",
    "scaler = StandardScaler()\n",
    "x = scaler.fit_transform(x)\n",
    "\n",
    "# Split data\n",
    "x_train, x_test, y_train, y_test = train_test_split(x, y, test_size=0.2, random_state=42)\n",
    "\n",
    "# Define optimizers\n",
    "optimizers = ['sgd', 'adam', 'rmsprop', 'adagrad', 'adadelta']\n",
    "\n",
    "results = {}\n",
    "\n",
    "for opt in optimizers:\n",
    "    # Define the neural network model\n",
    "    model = Sequential([\n",
    "        Dense(10, activation='relu', input_shape=(8,)),\n",
    "        Dense(1, activation='sigmoid')\n",
    "    ])\n",
    "    \n",
    "    # Compile the model with the specified optimizer\n",
    "    model.compile(optimizer=opt, loss='binary_crossentropy', metrics=['accuracy'])\n",
    "    \n",
    "    # Train the model and compute training time\n",
    "    start_time = time.time()\n",
    "    model.fit(x_train, y_train, epochs=15, verbose=0)\n",
    "    end_time = time.time()\n",
    "    training_time = end_time - start_time\n",
    "    \n",
    "    # Make predictions on the test set\n",
    "    y_pred = (model.predict(x_test) > 0.5).astype(\"int32\")\n",
    "    \n",
    "    # Compute test accuracy\n",
    "    test_accuracy = accuracy_score(y_test, y_pred)\n",
    "    \n",
    "    # Store results\n",
    "    results[opt] = {'training_time': training_time, 'test_accuracy': test_accuracy}\n",
    "\n",
    "# Print results\n",
    "print(\"RESULTS:\\n\")\n",
    "print(\"Optimizer\\tTraining Time\\tTest Accuracy\")\n",
    "for opt, res in results.items():\n",
    "    print(f\"{opt.ljust(10)}\\t{res['training_time']:.4f}\\t\\t{res['test_accuracy']:.4f}\")\n"
   ]
  }
 ],
 "metadata": {
  "kernelspec": {
   "display_name": "Python 3 (ipykernel)",
   "language": "python",
   "name": "python3"
  },
  "language_info": {
   "codemirror_mode": {
    "name": "ipython",
    "version": 3
   },
   "file_extension": ".py",
   "mimetype": "text/x-python",
   "name": "python",
   "nbconvert_exporter": "python",
   "pygments_lexer": "ipython3",
   "version": "3.11.7"
  }
 },
 "nbformat": 4,
 "nbformat_minor": 5
}
