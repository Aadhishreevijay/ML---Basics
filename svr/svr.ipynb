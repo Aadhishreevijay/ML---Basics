{
 "cells": [
  {
   "cell_type": "code",
   "execution_count": 2,
   "id": "885cce07-1330-41bf-9c3d-232b636c071d",
   "metadata": {},
   "outputs": [
    {
     "name": "stdout",
     "output_type": "stream",
     "text": [
      "linear:  {'C': 0.1}\n",
      "mse:  0.17232460004692535\n",
      "poly:  {'C': 0.1, 'degree': 3}\n",
      "mse:  0.24266311056374312\n",
      "rbf:  {'C': 0.1, 'gamma': 0.11}\n",
      "mse:  0.1620435181397711\n",
      "linear regression: 0.17104527280850101\n"
     ]
    }
   ],
   "source": [
    "import numpy as np\n",
    "import pandas as pd\n",
    "from sklearn.model_selection import train_test_split,GridSearchCV\n",
    "from sklearn.metrics import mean_squared_error\n",
    "from sklearn.svm import SVR\n",
    "from sklearn.preprocessing import StandardScaler\n",
    "from sklearn.linear_model import LinearRegression\n",
    "data=pd.read_csv('diabetes.csv')\n",
    "x=data.drop('Outcome',axis=1)\n",
    "y=data['Outcome']\n",
    "scalar=StandardScaler()\n",
    "x=scalar.fit_transform(x)\n",
    "x_train,x_test,y_train,y_test=train_test_split(x,y,test_size=0.2,random_state=42)\n",
    "grid_linear={'C':np.arange(0.1,100.1,10)}\n",
    "grid_poly={'C':np.arange(0.1,100.1,10),'degree':[2,3,4]}\n",
    "grid_rbf={'C':np.arange(0.1,100.1,10),'gamma':np.arange(0.01,1.01,0.1)}\n",
    "svr_linear=GridSearchCV(SVR(kernel='linear'),grid_linear,cv=5,scoring='neg_mean_squared_error')\n",
    "svr_linear.fit(x_train,y_train)\n",
    "print('linear: ',svr_linear.best_params_)\n",
    "print('mse: ',-svr_linear.best_score_)\n",
    "svr_poly=GridSearchCV(SVR(kernel='poly'),grid_poly,cv=5,scoring='neg_mean_squared_error')\n",
    "svr_poly.fit(x_train,y_train)\n",
    "print('poly: ',svr_poly.best_params_)\n",
    "print('mse: ',-svr_poly.best_score_)\n",
    "svr_rbf=GridSearchCV(SVR(kernel='rbf'),grid_rbf,cv=5,scoring='neg_mean_squared_error')\n",
    "svr_rbf.fit(x_train,y_train)\n",
    "print('rbf: ',svr_rbf.best_params_)\n",
    "print('mse: ',-svr_rbf.best_score_)\n",
    "linear=LinearRegression()\n",
    "linear.fit(x_train,y_train)\n",
    "linear_pred=linear.predict(x_test)\n",
    "mse=mean_squared_error(y_test,linear_pred)\n",
    "print('linear regression:',mse)"
   ]
  }
 ],
 "metadata": {
  "kernelspec": {
   "display_name": "Python 3 (ipykernel)",
   "language": "python",
   "name": "python3"
  },
  "language_info": {
   "codemirror_mode": {
    "name": "ipython",
    "version": 3
   },
   "file_extension": ".py",
   "mimetype": "text/x-python",
   "name": "python",
   "nbconvert_exporter": "python",
   "pygments_lexer": "ipython3",
   "version": "3.11.7"
  }
 },
 "nbformat": 4,
 "nbformat_minor": 5
}
